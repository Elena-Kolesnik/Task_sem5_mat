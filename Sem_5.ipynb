{
  "nbformat": 4,
  "nbformat_minor": 0,
  "metadata": {
    "colab": {
      "provenance": []
    },
    "kernelspec": {
      "name": "python3",
      "display_name": "Python 3"
    },
    "language_info": {
      "name": "python"
    }
  },
  "cells": [
    {
      "cell_type": "markdown",
      "source": [
        "**Задача 1.** Когда используется критерий Стьюдента, а когда Z –критерий?\n",
        "\n",
        "***Критерий Стьюдента:***\n",
        "\n",
        "-сигма не известна;\n",
        "\n",
        "-равенство дисперсий;\n",
        "\n",
        "-нормальность.\n",
        "\n",
        "***Z-критерий:***\n",
        "\n",
        "-сигма генеральной совокупности известна;\n",
        "\n",
        "-нормальность."
      ],
      "metadata": {
        "id": "ZodimTgbcsSU"
      }
    },
    {
      "cell_type": "markdown",
      "source": [
        "**Задача 2.** Проведите тест гипотезы. Утверждается, что шарики для подшипников, изготовленные автоматическим станком, имеют средний диаметр 17 мм.\n",
        "Используя односторонний критерий с α=0,05, проверить эту гипотезу, если в выборке из n=100 шариков средний диаметр\n",
        "оказался равным 17.5 мм, а дисперсия известна и равна 4 кв. мм."
      ],
      "metadata": {
        "id": "JnryFA-WehUG"
      }
    },
    {
      "cell_type": "markdown",
      "source": [
        "n = 100 (шариков)\n",
        "\n",
        "mu = 17 (средний диаметр шариков генеральной совокупности)\n",
        "\n",
        "\n",
        "alpha = 0.05 = 5% (односторонний критерий)\n",
        "\n",
        "\n",
        "X = 17.5 (средний диаметр шариков выборки)\n",
        "\n",
        "\n",
        "D(x) = 4 (дисперсия в кв.мм)\n",
        "\n",
        "\n",
        "sigma = sqrt(D(x)) (среднее квадратичное отклонение, корень из дисперсии) = 2\n",
        "\n",
        "\n",
        "Формула:\n",
        "\n",
        "Z(H) = (X - mu) / (sigma / sqrt(n))"
      ],
      "metadata": {
        "id": "asibJVice3Dx"
      }
    },
    {
      "cell_type": "code",
      "source": [
        "import numpy as np \n",
        "\n",
        "def Z(x, mu, sigma, n):\n",
        "    return (x - mu) / (sigma / np.sqrt(n))\n",
        "\n",
        "n = 100\n",
        "x = 17.5\n",
        "mu = 17\n",
        "sigma = 2\n",
        "\n",
        "z = Z(x, mu, sigma, n)\n",
        "z"
      ],
      "metadata": {
        "colab": {
          "base_uri": "https://localhost:8080/"
        },
        "id": "dBK1KxjZhM5F",
        "outputId": "b65ecf55-9441-4f15-d3e5-a879e4e62a7b"
      },
      "execution_count": 1,
      "outputs": [
        {
          "output_type": "execute_result",
          "data": {
            "text/plain": [
              "2.5"
            ]
          },
          "metadata": {},
          "execution_count": 1
        }
      ]
    },
    {
      "cell_type": "markdown",
      "source": [
        "Найдем табличное значение Z-критерия для alpha = 0.05"
      ],
      "metadata": {
        "id": "k2sa0EIZiCnE"
      }
    },
    {
      "cell_type": "code",
      "source": [
        "import scipy.stats as stats\n",
        "\n",
        "stats.norm.ppf(0.95)"
      ],
      "metadata": {
        "colab": {
          "base_uri": "https://localhost:8080/"
        },
        "id": "h0qfeNK2iF8x",
        "outputId": "b90a644e-1f60-4e62-b560-4cee9d520e11"
      },
      "execution_count": 2,
      "outputs": [
        {
          "output_type": "execute_result",
          "data": {
            "text/plain": [
              "1.6448536269514722"
            ]
          },
          "metadata": {},
          "execution_count": 2
        }
      ]
    },
    {
      "cell_type": "markdown",
      "source": [
        "Отвергаем нулевую гипотезу.\n",
        "\n",
        "Шарики не были изготовлены данным автоматическим станком. "
      ],
      "metadata": {
        "id": "FafqsUjsiOLl"
      }
    },
    {
      "cell_type": "markdown",
      "source": [
        "**Задача 3.** Проведите тест гипотезы. Продавец утверждает, что средний вес пачки печенья составляет 200 г.\n",
        "Из партии извлечена выборка из 10 пачек. Вес каждой пачки составляет:\n",
        "202, 203, 199, 197, 195, 201, 200, 204, 194, 190.\n",
        "Известно, что их веса распределены нормально.\n",
        "Верно ли утверждение продавца, если учитывать, что доверительная вероятность равна 99%? (Провести двусторонний тест.)"
      ],
      "metadata": {
        "id": "9ROzbsxaiu70"
      }
    },
    {
      "cell_type": "code",
      "source": [
        "import numpy as np \n",
        "\n",
        "def t(x, mu, sigma, n):\n",
        "    return (x - mu) / (sigma / np.sqrt(n))\n",
        "\n",
        "\n",
        "cookies = np.array([202, 203, 199, 197, 195, 201, 200, 204, 194, 190])\n",
        "x = np.mean(cookies)\n",
        "mu = 200\n",
        "n = 10\n",
        "alpha = 0.01 / 2\n",
        "sigma = np.std(cookies, ddof=1)\n",
        "\n",
        "t_n = t(x, mu, sigma, n)\n",
        "t_n"
      ],
      "metadata": {
        "colab": {
          "base_uri": "https://localhost:8080/"
        },
        "id": "GSKVUegekHiF",
        "outputId": "a90643ad-bef3-490e-a10b-6d52c13b16f3"
      },
      "execution_count": 3,
      "outputs": [
        {
          "output_type": "execute_result",
          "data": {
            "text/plain": [
              "-1.0651074037450896"
            ]
          },
          "metadata": {},
          "execution_count": 3
        }
      ]
    },
    {
      "cell_type": "markdown",
      "source": [
        "aplha = 0.01 / 2 = 0.005\n",
        "\n",
        "Смотрим таблицу для ddof = 9 и a = 0.005"
      ],
      "metadata": {
        "id": "9S0ht4REkkY2"
      }
    },
    {
      "cell_type": "code",
      "source": [
        "import scipy.stats as stats\n",
        "\n",
        "t_t=stats.t.ppf(0.995, 9)\n",
        "t_t"
      ],
      "metadata": {
        "colab": {
          "base_uri": "https://localhost:8080/"
        },
        "id": "5afSQrzik2Fr",
        "outputId": "664f2aa1-b9c8-48c7-a813-92da5680c2ef"
      },
      "execution_count": 4,
      "outputs": [
        {
          "output_type": "execute_result",
          "data": {
            "text/plain": [
              "3.2498355440153697"
            ]
          },
          "metadata": {},
          "execution_count": 4
        }
      ]
    },
    {
      "cell_type": "markdown",
      "source": [
        "Принимаем нулевую гипотезу.\n",
        "\n",
        "Утверждение продавца верно.\n"
      ],
      "metadata": {
        "id": "fDTS2ilBlBQi"
      }
    },
    {
      "cell_type": "markdown",
      "source": [
        "**Задача 4.** Есть ли статистически значимые различия в росте дочерей?\n",
        "Рост матерей 172, 177, 158, 170, 178,175, 164, 160, 169, 165\n",
        "Рост взрослых дочерей: 173, 175, 162, 174, 175, 168, 155, 170, 160"
      ],
      "metadata": {
        "id": "8hC5fwb9lRvM"
      }
    },
    {
      "cell_type": "code",
      "source": [
        "x = np.array([172, 177, 158, 170, 178, 164, 160, 169, 165])\n",
        "y = np.array([173, 175, 162, 174, 175, 168, 155, 170, 160])\n",
        "stats.ttest_rel(x,y)"
      ],
      "metadata": {
        "colab": {
          "base_uri": "https://localhost:8080/"
        },
        "id": "s1sSk3mZlmIm",
        "outputId": "f9a548e3-8341-463c-a5b7-796d0149a48c"
      },
      "execution_count": 5,
      "outputs": [
        {
          "output_type": "execute_result",
          "data": {
            "text/plain": [
              "Ttest_relResult(statistic=0.08873565094161137, pvalue=0.9314731778513443)"
            ]
          },
          "metadata": {},
          "execution_count": 5
        }
      ]
    },
    {
      "cell_type": "markdown",
      "source": [
        "Статистически значимых различий в росте дочерей нет.\n"
      ],
      "metadata": {
        "id": "I-YR9osRl5Gr"
      }
    }
  ]
}